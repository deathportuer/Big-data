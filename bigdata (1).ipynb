{
 "cells": [
  {
   "cell_type": "code",
   "execution_count": 1,
   "id": "fb55a3dd-5165-41e7-a169-888efed01fe1",
   "metadata": {},
   "outputs": [
    {
     "name": "stdout",
     "output_type": "stream",
     "text": [
      "Requirement already satisfied: dask in c:\\users\\deathportuer\\anaconda3\\lib\\site-packages (2024.8.2)\n",
      "Requirement already satisfied: pandas in c:\\users\\deathportuer\\appdata\\roaming\\python\\python312\\site-packages (2.2.3)\n",
      "Requirement already satisfied: matplotlib in c:\\users\\deathportuer\\appdata\\roaming\\python\\python312\\site-packages (3.10.0)\n",
      "Requirement already satisfied: click>=8.1 in c:\\users\\deathportuer\\appdata\\roaming\\python\\python312\\site-packages (from dask) (8.1.7)\n",
      "Requirement already satisfied: cloudpickle>=3.0.0 in c:\\users\\deathportuer\\anaconda3\\lib\\site-packages (from dask) (3.0.0)\n",
      "Requirement already satisfied: fsspec>=2021.09.0 in c:\\users\\deathportuer\\anaconda3\\lib\\site-packages (from dask) (2024.6.1)\n",
      "Requirement already satisfied: packaging>=20.0 in c:\\users\\deathportuer\\appdata\\roaming\\python\\python312\\site-packages (from dask) (23.2)\n",
      "Requirement already satisfied: partd>=1.4.0 in c:\\users\\deathportuer\\anaconda3\\lib\\site-packages (from dask) (1.4.1)\n",
      "Requirement already satisfied: pyyaml>=5.3.1 in c:\\users\\deathportuer\\anaconda3\\lib\\site-packages (from dask) (6.0.1)\n",
      "Requirement already satisfied: toolz>=0.10.0 in c:\\users\\deathportuer\\anaconda3\\lib\\site-packages (from dask) (0.12.0)\n",
      "Requirement already satisfied: numpy>=1.26.0 in c:\\users\\deathportuer\\appdata\\roaming\\python\\python312\\site-packages (from pandas) (1.26.1)\n",
      "Requirement already satisfied: python-dateutil>=2.8.2 in c:\\users\\deathportuer\\appdata\\roaming\\python\\python312\\site-packages (from pandas) (2.9.0.post0)\n",
      "Requirement already satisfied: pytz>=2020.1 in c:\\users\\deathportuer\\appdata\\roaming\\python\\python312\\site-packages (from pandas) (2024.2)\n",
      "Requirement already satisfied: tzdata>=2022.7 in c:\\users\\deathportuer\\appdata\\roaming\\python\\python312\\site-packages (from pandas) (2025.1)\n",
      "Requirement already satisfied: contourpy>=1.0.1 in c:\\users\\deathportuer\\appdata\\roaming\\python\\python312\\site-packages (from matplotlib) (1.3.1)\n",
      "Requirement already satisfied: cycler>=0.10 in c:\\users\\deathportuer\\appdata\\roaming\\python\\python312\\site-packages (from matplotlib) (0.12.1)\n",
      "Requirement already satisfied: fonttools>=4.22.0 in c:\\users\\deathportuer\\appdata\\roaming\\python\\python312\\site-packages (from matplotlib) (4.55.7)\n",
      "Requirement already satisfied: kiwisolver>=1.3.1 in c:\\users\\deathportuer\\appdata\\roaming\\python\\python312\\site-packages (from matplotlib) (1.4.8)\n",
      "Requirement already satisfied: pillow>=8 in c:\\users\\deathportuer\\appdata\\roaming\\python\\python312\\site-packages (from matplotlib) (11.1.0)\n",
      "Requirement already satisfied: pyparsing>=2.3.1 in c:\\users\\deathportuer\\appdata\\roaming\\python\\python312\\site-packages (from matplotlib) (3.2.1)\n",
      "Requirement already satisfied: colorama in c:\\users\\deathportuer\\appdata\\roaming\\python\\python312\\site-packages (from click>=8.1->dask) (0.4.6)\n",
      "Requirement already satisfied: locket in c:\\users\\deathportuer\\anaconda3\\lib\\site-packages (from partd>=1.4.0->dask) (1.0.0)\n",
      "Requirement already satisfied: six>=1.5 in c:\\users\\deathportuer\\appdata\\roaming\\python\\python312\\site-packages (from python-dateutil>=2.8.2->pandas) (1.17.0)\n",
      "Note: you may need to restart the kernel to use updated packages.\n"
     ]
    },
    {
     "name": "stderr",
     "output_type": "stream",
     "text": [
      "\n",
      "[notice] A new release of pip is available: 25.0 -> 25.0.1\n",
      "[notice] To update, run: python.exe -m pip install --upgrade pip\n"
     ]
    }
   ],
   "source": [
    "pip install dask pandas matplotlib\n"
   ]
  },
  {
   "cell_type": "code",
   "execution_count": 6,
   "id": "d01376da-2b41-407b-9f76-7357fdd08476",
   "metadata": {},
   "outputs": [
    {
     "name": "stdout",
     "output_type": "stream",
     "text": [
      "   vendor_id      pickup_datetime     dropoff_datetime  passenger_count  \\\n",
      "0          2  2018-03-29 13:37:13  2018-03-29 14:17:01              1.0   \n",
      "1          2  2018-03-29 13:37:18  2018-03-29 14:15:33              1.0   \n",
      "2          2  2018-03-29 13:26:57  2018-03-29 13:28:03              1.0   \n",
      "3          2  2018-03-29 13:07:48  2018-03-29 14:03:05              2.0   \n",
      "4          2  2018-03-29 14:19:11  2018-03-29 15:19:59              5.0   \n",
      "\n",
      "   trip_distance  rate_code store_and_fwd_flag  payment_type  fare_amount  \\\n",
      "0          18.15          3                  N             1         70.0   \n",
      "1           4.59          1                  N             1         25.0   \n",
      "2           0.30          1                  N             1          3.0   \n",
      "3          16.97          1                  N             1         49.5   \n",
      "4          14.45          1                  N             1         45.5   \n",
      "\n",
      "   extra  mta_tax  tip_amount  tolls_amount  imp_surcharge  total_amount  \\\n",
      "0    0.0      0.0       16.16         10.50            0.3         96.96   \n",
      "1    0.0      0.5        5.16          0.00            0.3         30.96   \n",
      "2    0.0      0.5        0.76          0.00            0.3          4.56   \n",
      "3    0.0      0.5        5.61          5.76            0.3         61.67   \n",
      "4    0.0      0.5       10.41          5.76            0.3         62.47   \n",
      "\n",
      "   pickup_location_id  dropoff_location_id  \n",
      "0                 161                    1  \n",
      "1                  13                  230  \n",
      "2                 231                  231  \n",
      "3                 231                  138  \n",
      "4                  87                  138  \n",
      "          vendor_id  passenger_count  trip_distance     rate_code  \\\n",
      "count  1.000000e+07     1.000000e+07   1.000000e+07  1.000000e+07   \n",
      "mean   1.614328e+00     1.602949e+00   8.849280e+00  1.201239e+00   \n",
      "std    5.146576e-01     1.245782e+00   5.882028e+00  1.250733e+00   \n",
      "min    1.000000e+00     0.000000e+00   0.000000e+00  1.000000e+00   \n",
      "25%    1.000000e+00     1.000000e+00   6.300000e+00  1.000000e+00   \n",
      "50%    2.000000e+00     1.000000e+00   8.910000e+00  1.000000e+00   \n",
      "75%    2.000000e+00     2.000000e+00   1.237000e+01  1.000000e+00   \n",
      "max    4.000000e+00     9.000000e+00   7.655760e+03  9.900000e+01   \n",
      "\n",
      "       payment_type   fare_amount         extra       mta_tax    tip_amount  \\\n",
      "count  1.000000e+07  1.000000e+07  1.000000e+07  1.000000e+07  1.000000e+07   \n",
      "mean   1.189299e+00  3.165255e+01  3.383781e-01  4.819289e-01  5.598527e+00   \n",
      "std    4.339876e-01  1.606011e+02  5.512911e-01  1.207282e-01  4.840596e+00   \n",
      "min    1.000000e+00 -8.000000e+02 -8.000000e+01 -5.000000e-01 -3.224200e+02   \n",
      "25%    1.000000e+00  2.400000e+01  0.000000e+00  5.000000e-01  4.560000e+00   \n",
      "50%    1.000000e+00  3.000000e+01  0.000000e+00  5.000000e-01  6.200000e+00   \n",
      "75%    2.000000e+00  4.250000e+01  5.000000e-01  5.000000e-01  8.260000e+00   \n",
      "max    5.000000e+00  3.984600e+05  8.400000e+01  1.500000e+02  4.960000e+02   \n",
      "\n",
      "       tolls_amount  imp_surcharge  total_amount  pickup_location_id  \\\n",
      "count  1.000000e+07   1.000000e+07  1.000000e+07        1.000000e+07   \n",
      "mean   2.137918e+00   2.978831e-01  4.051607e+01        1.535632e+02   \n",
      "std    3.750309e+00   3.406027e-02  1.611634e+02        6.076456e+01   \n",
      "min   -5.250000e+01  -3.000000e-01 -8.003000e+02        1.000000e+00   \n",
      "25%    0.000000e+00   3.000000e-01  3.030000e+01        1.320000e+02   \n",
      "50%    0.000000e+00   3.000000e-01  4.055000e+01        1.420000e+02   \n",
      "75%    5.760000e+00   3.000000e-01  5.449000e+01        2.300000e+02   \n",
      "max    9.182500e+02   1.000000e+00  3.985220e+05        2.650000e+02   \n",
      "\n",
      "       dropoff_location_id  \n",
      "count         1.000000e+07  \n",
      "mean          1.481428e+02  \n",
      "std           7.574853e+01  \n",
      "min           1.000000e+00  \n",
      "25%           9.300000e+01  \n",
      "50%           1.510000e+02  \n",
      "75%           2.300000e+02  \n",
      "max           2.650000e+02  \n",
      "passenger_count\n",
      "2.0    41.564853\n",
      "3.0    41.091721\n",
      "7.0    70.126908\n",
      "0.0    41.865982\n",
      "1.0    40.253345\n",
      "4.0    41.501558\n",
      "5.0    40.162774\n",
      "6.0    40.009289\n",
      "8.0    76.916686\n",
      "9.0    89.364028\n",
      "Name: total_amount, dtype: float64\n"
     ]
    },
    {
     "data": {
      "image/png": "[encoded data removed]",
      "text/plain": [
       "<Figure size 1000x500 with 1 Axes>"
      ]
     },
     "metadata": {},
     "output_type": "display_data"
    }
   ],
   "source": [
    "import dask.dataframe as dd\n",
    "import matplotlib.pyplot as plt\n",
    "\n",
    "# Load large dataset (Modify path if needed)\n",
    "df = dd.read_csv(r\"C:\\Users\\Deathportuer\\Desktop\\Desktop\\Largedatasets\\taxi_trip_data.csv\", dtype={'VendorID': 'float64', 'passenger_count': 'float64'})\n",
    "\n",
    "# Display initial rows\n",
    "print(df.head())\n",
    "\n",
    "# Basic Statistics\n",
    "print(df.describe().compute())\n",
    "\n",
    "# Aggregation: Average Fare per Passenger\n",
    "df['total_amount'] = df['total_amount'].astype('float64')\n",
    "result = df.groupby('passenger_count')['total_amount'].mean().compute()\n",
    "print(result)\n",
    "\n",
    "# Visualization\n",
    "result.plot(kind='bar', figsize=(10,5))\n",
    "plt.ylabel(\"Passenger Count\")\n",
    "plt.xlabel(\"Avg Fare ($)\")\n",
    "plt.title(\"Average Fare per Passenger Count\")\n",
    "plt.show()\n"
   ]
  },
  {
   "cell_type": "code",
   "execution_count": null,
   "id": "df3c53f1-799d-4a48-a7ec-2dfc80f77c68",
   "metadata": {},
   "outputs": [],
   "source": []
  },
  {
   "cell_type": "code",
   "execution_count": null,
   "id": "d9d67276-d8eb-4e4d-9852-a3368b6ff329",
   "metadata": {},
   "outputs": [],
   "source": []
  }
 ],
 "metadata": {
  "kernelspec": {
   "display_name": "Python 3 (ipykernel)",
   "language": "python",
   "name": "python3"
  },
  "language_info": {
   "codemirror_mode": {
    "name": "ipython",
    "version": 3
   },
   "file_extension": ".py",
   "mimetype": "text/x-python",
   "name": "python",
   "nbconvert_exporter": "python",
   "pygments_lexer": "ipython3",
   "version": "3.12.7"
  }
 },
 "nbformat": 4,
 "nbformat_minor": 5
}
